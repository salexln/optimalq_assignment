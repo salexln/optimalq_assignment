{
 "cells": [
  {
   "cell_type": "markdown",
   "metadata": {},
   "source": [
    "# OptimalQ home assignment"
   ]
  },
  {
   "cell_type": "code",
   "execution_count": 1,
   "metadata": {},
   "outputs": [],
   "source": [
    "import pandas as pd\n",
    "import random\n",
    "import numpy as np"
   ]
  },
  {
   "cell_type": "code",
   "execution_count": 2,
   "metadata": {},
   "outputs": [],
   "source": [
    "# data = '../data/train'\n",
    "data = '../data/train_20'\n",
    "# data = '../data/train_10000'"
   ]
  },
  {
   "cell_type": "code",
   "execution_count": 3,
   "metadata": {},
   "outputs": [],
   "source": [
    "df = pd.read_csv(data)"
   ]
  },
  {
   "cell_type": "markdown",
   "metadata": {},
   "source": [
    "### Inspect the data:"
   ]
  },
  {
   "cell_type": "code",
   "execution_count": 4,
   "metadata": {},
   "outputs": [
    {
     "data": {
      "text/html": [
       "<div>\n",
       "<style scoped>\n",
       "    .dataframe tbody tr th:only-of-type {\n",
       "        vertical-align: middle;\n",
       "    }\n",
       "\n",
       "    .dataframe tbody tr th {\n",
       "        vertical-align: top;\n",
       "    }\n",
       "\n",
       "    .dataframe thead th {\n",
       "        text-align: right;\n",
       "    }\n",
       "</style>\n",
       "<table border=\"1\" class=\"dataframe\">\n",
       "  <thead>\n",
       "    <tr style=\"text-align: right;\">\n",
       "      <th></th>\n",
       "      <th>id</th>\n",
       "      <th>click</th>\n",
       "      <th>hour</th>\n",
       "      <th>C1</th>\n",
       "      <th>banner_pos</th>\n",
       "      <th>site_id</th>\n",
       "      <th>site_domain</th>\n",
       "      <th>site_category</th>\n",
       "      <th>app_id</th>\n",
       "      <th>app_domain</th>\n",
       "      <th>...</th>\n",
       "      <th>device_type</th>\n",
       "      <th>device_conn_type</th>\n",
       "      <th>C14</th>\n",
       "      <th>C15</th>\n",
       "      <th>C16</th>\n",
       "      <th>C17</th>\n",
       "      <th>C18</th>\n",
       "      <th>C19</th>\n",
       "      <th>C20</th>\n",
       "      <th>C21</th>\n",
       "    </tr>\n",
       "  </thead>\n",
       "  <tbody>\n",
       "    <tr>\n",
       "      <th>0</th>\n",
       "      <td>1.000009e+18</td>\n",
       "      <td>0</td>\n",
       "      <td>14102100</td>\n",
       "      <td>1005</td>\n",
       "      <td>0</td>\n",
       "      <td>1fbe01fe</td>\n",
       "      <td>f3845767</td>\n",
       "      <td>28905ebd</td>\n",
       "      <td>ecad2386</td>\n",
       "      <td>7801e8d9</td>\n",
       "      <td>...</td>\n",
       "      <td>1</td>\n",
       "      <td>2</td>\n",
       "      <td>15706</td>\n",
       "      <td>320</td>\n",
       "      <td>50</td>\n",
       "      <td>1722</td>\n",
       "      <td>0</td>\n",
       "      <td>35</td>\n",
       "      <td>-1</td>\n",
       "      <td>79</td>\n",
       "    </tr>\n",
       "    <tr>\n",
       "      <th>1</th>\n",
       "      <td>1.000017e+19</td>\n",
       "      <td>0</td>\n",
       "      <td>14102100</td>\n",
       "      <td>1005</td>\n",
       "      <td>0</td>\n",
       "      <td>1fbe01fe</td>\n",
       "      <td>f3845767</td>\n",
       "      <td>28905ebd</td>\n",
       "      <td>ecad2386</td>\n",
       "      <td>7801e8d9</td>\n",
       "      <td>...</td>\n",
       "      <td>1</td>\n",
       "      <td>0</td>\n",
       "      <td>15704</td>\n",
       "      <td>320</td>\n",
       "      <td>50</td>\n",
       "      <td>1722</td>\n",
       "      <td>0</td>\n",
       "      <td>35</td>\n",
       "      <td>100084</td>\n",
       "      <td>79</td>\n",
       "    </tr>\n",
       "    <tr>\n",
       "      <th>2</th>\n",
       "      <td>1.000037e+19</td>\n",
       "      <td>0</td>\n",
       "      <td>14102100</td>\n",
       "      <td>1005</td>\n",
       "      <td>0</td>\n",
       "      <td>1fbe01fe</td>\n",
       "      <td>f3845767</td>\n",
       "      <td>28905ebd</td>\n",
       "      <td>ecad2386</td>\n",
       "      <td>7801e8d9</td>\n",
       "      <td>...</td>\n",
       "      <td>1</td>\n",
       "      <td>0</td>\n",
       "      <td>15704</td>\n",
       "      <td>320</td>\n",
       "      <td>50</td>\n",
       "      <td>1722</td>\n",
       "      <td>0</td>\n",
       "      <td>35</td>\n",
       "      <td>100084</td>\n",
       "      <td>79</td>\n",
       "    </tr>\n",
       "    <tr>\n",
       "      <th>3</th>\n",
       "      <td>1.000064e+19</td>\n",
       "      <td>0</td>\n",
       "      <td>14102100</td>\n",
       "      <td>1005</td>\n",
       "      <td>0</td>\n",
       "      <td>1fbe01fe</td>\n",
       "      <td>f3845767</td>\n",
       "      <td>28905ebd</td>\n",
       "      <td>ecad2386</td>\n",
       "      <td>7801e8d9</td>\n",
       "      <td>...</td>\n",
       "      <td>1</td>\n",
       "      <td>0</td>\n",
       "      <td>15706</td>\n",
       "      <td>320</td>\n",
       "      <td>50</td>\n",
       "      <td>1722</td>\n",
       "      <td>0</td>\n",
       "      <td>35</td>\n",
       "      <td>100084</td>\n",
       "      <td>79</td>\n",
       "    </tr>\n",
       "    <tr>\n",
       "      <th>4</th>\n",
       "      <td>1.000068e+19</td>\n",
       "      <td>0</td>\n",
       "      <td>14102100</td>\n",
       "      <td>1005</td>\n",
       "      <td>1</td>\n",
       "      <td>fe8cc448</td>\n",
       "      <td>9166c161</td>\n",
       "      <td>0569f928</td>\n",
       "      <td>ecad2386</td>\n",
       "      <td>7801e8d9</td>\n",
       "      <td>...</td>\n",
       "      <td>1</td>\n",
       "      <td>0</td>\n",
       "      <td>18993</td>\n",
       "      <td>320</td>\n",
       "      <td>50</td>\n",
       "      <td>2161</td>\n",
       "      <td>0</td>\n",
       "      <td>35</td>\n",
       "      <td>-1</td>\n",
       "      <td>157</td>\n",
       "    </tr>\n",
       "  </tbody>\n",
       "</table>\n",
       "<p>5 rows × 24 columns</p>\n",
       "</div>"
      ],
      "text/plain": [
       "             id  click      hour    C1  banner_pos   site_id site_domain  \\\n",
       "0  1.000009e+18      0  14102100  1005           0  1fbe01fe    f3845767   \n",
       "1  1.000017e+19      0  14102100  1005           0  1fbe01fe    f3845767   \n",
       "2  1.000037e+19      0  14102100  1005           0  1fbe01fe    f3845767   \n",
       "3  1.000064e+19      0  14102100  1005           0  1fbe01fe    f3845767   \n",
       "4  1.000068e+19      0  14102100  1005           1  fe8cc448    9166c161   \n",
       "\n",
       "  site_category    app_id app_domain ...  device_type device_conn_type    C14  \\\n",
       "0      28905ebd  ecad2386   7801e8d9 ...            1                2  15706   \n",
       "1      28905ebd  ecad2386   7801e8d9 ...            1                0  15704   \n",
       "2      28905ebd  ecad2386   7801e8d9 ...            1                0  15704   \n",
       "3      28905ebd  ecad2386   7801e8d9 ...            1                0  15706   \n",
       "4      0569f928  ecad2386   7801e8d9 ...            1                0  18993   \n",
       "\n",
       "   C15  C16   C17  C18  C19     C20  C21  \n",
       "0  320   50  1722    0   35      -1   79  \n",
       "1  320   50  1722    0   35  100084   79  \n",
       "2  320   50  1722    0   35  100084   79  \n",
       "3  320   50  1722    0   35  100084   79  \n",
       "4  320   50  2161    0   35      -1  157  \n",
       "\n",
       "[5 rows x 24 columns]"
      ]
     },
     "execution_count": 4,
     "metadata": {},
     "output_type": "execute_result"
    }
   ],
   "source": [
    "df.head()"
   ]
  },
  {
   "cell_type": "code",
   "execution_count": 5,
   "metadata": {},
   "outputs": [
    {
     "data": {
      "text/plain": [
       "id                  float64:dense\n",
       "click                 int64:dense\n",
       "hour                  int64:dense\n",
       "C1                    int64:dense\n",
       "banner_pos            int64:dense\n",
       "site_id              object:dense\n",
       "site_domain          object:dense\n",
       "site_category        object:dense\n",
       "app_id               object:dense\n",
       "app_domain           object:dense\n",
       "app_category         object:dense\n",
       "device_id            object:dense\n",
       "device_ip            object:dense\n",
       "device_model         object:dense\n",
       "device_type           int64:dense\n",
       "device_conn_type      int64:dense\n",
       "C14                   int64:dense\n",
       "C15                   int64:dense\n",
       "C16                   int64:dense\n",
       "C17                   int64:dense\n",
       "C18                   int64:dense\n",
       "C19                   int64:dense\n",
       "C20                   int64:dense\n",
       "C21                   int64:dense\n",
       "dtype: object"
      ]
     },
     "execution_count": 5,
     "metadata": {},
     "output_type": "execute_result"
    }
   ],
   "source": [
    "df.ftypes"
   ]
  },
  {
   "cell_type": "code",
   "execution_count": 6,
   "metadata": {
    "scrolled": true
   },
   "outputs": [
    {
     "data": {
      "text/html": [
       "<div>\n",
       "<style scoped>\n",
       "    .dataframe tbody tr th:only-of-type {\n",
       "        vertical-align: middle;\n",
       "    }\n",
       "\n",
       "    .dataframe tbody tr th {\n",
       "        vertical-align: top;\n",
       "    }\n",
       "\n",
       "    .dataframe thead th {\n",
       "        text-align: right;\n",
       "    }\n",
       "</style>\n",
       "<table border=\"1\" class=\"dataframe\">\n",
       "  <thead>\n",
       "    <tr style=\"text-align: right;\">\n",
       "      <th></th>\n",
       "      <th>id</th>\n",
       "      <th>click</th>\n",
       "      <th>hour</th>\n",
       "      <th>C1</th>\n",
       "      <th>banner_pos</th>\n",
       "      <th>device_type</th>\n",
       "      <th>device_conn_type</th>\n",
       "      <th>C14</th>\n",
       "      <th>C15</th>\n",
       "      <th>C16</th>\n",
       "      <th>C17</th>\n",
       "      <th>C18</th>\n",
       "      <th>C19</th>\n",
       "      <th>C20</th>\n",
       "      <th>C21</th>\n",
       "    </tr>\n",
       "  </thead>\n",
       "  <tbody>\n",
       "    <tr>\n",
       "      <th>count</th>\n",
       "      <td>8.085792e+06</td>\n",
       "      <td>8.085792e+06</td>\n",
       "      <td>8.085792e+06</td>\n",
       "      <td>8.085792e+06</td>\n",
       "      <td>8.085792e+06</td>\n",
       "      <td>8.085792e+06</td>\n",
       "      <td>8.085792e+06</td>\n",
       "      <td>8.085792e+06</td>\n",
       "      <td>8.085792e+06</td>\n",
       "      <td>8.085792e+06</td>\n",
       "      <td>8.085792e+06</td>\n",
       "      <td>8.085792e+06</td>\n",
       "      <td>8.085792e+06</td>\n",
       "      <td>8.085792e+06</td>\n",
       "      <td>8.085792e+06</td>\n",
       "    </tr>\n",
       "    <tr>\n",
       "      <th>mean</th>\n",
       "      <td>9.229435e+18</td>\n",
       "      <td>1.636567e-01</td>\n",
       "      <td>1.410216e+07</td>\n",
       "      <td>1.004987e+03</td>\n",
       "      <td>2.412788e-01</td>\n",
       "      <td>1.019059e+00</td>\n",
       "      <td>2.545521e-01</td>\n",
       "      <td>1.879599e+04</td>\n",
       "      <td>3.182887e+02</td>\n",
       "      <td>5.862288e+01</td>\n",
       "      <td>2.120326e+03</td>\n",
       "      <td>1.318755e+00</td>\n",
       "      <td>1.714950e+02</td>\n",
       "      <td>4.880600e+04</td>\n",
       "      <td>9.424142e+01</td>\n",
       "    </tr>\n",
       "    <tr>\n",
       "      <th>std</th>\n",
       "      <td>5.318544e+18</td>\n",
       "      <td>3.699638e-01</td>\n",
       "      <td>4.943827e+01</td>\n",
       "      <td>1.003526e+00</td>\n",
       "      <td>4.546148e-01</td>\n",
       "      <td>4.908343e-01</td>\n",
       "      <td>7.207736e-01</td>\n",
       "      <td>4.667996e+03</td>\n",
       "      <td>2.657754e+01</td>\n",
       "      <td>4.538597e+01</td>\n",
       "      <td>5.708768e+02</td>\n",
       "      <td>1.381888e+00</td>\n",
       "      <td>3.097622e+02</td>\n",
       "      <td>5.004011e+04</td>\n",
       "      <td>6.623489e+01</td>\n",
       "    </tr>\n",
       "    <tr>\n",
       "      <th>min</th>\n",
       "      <td>2.052565e+12</td>\n",
       "      <td>0.000000e+00</td>\n",
       "      <td>1.410210e+07</td>\n",
       "      <td>1.001000e+03</td>\n",
       "      <td>0.000000e+00</td>\n",
       "      <td>0.000000e+00</td>\n",
       "      <td>0.000000e+00</td>\n",
       "      <td>3.750000e+02</td>\n",
       "      <td>1.200000e+02</td>\n",
       "      <td>2.000000e+01</td>\n",
       "      <td>1.120000e+02</td>\n",
       "      <td>0.000000e+00</td>\n",
       "      <td>3.300000e+01</td>\n",
       "      <td>-1.000000e+00</td>\n",
       "      <td>1.300000e+01</td>\n",
       "    </tr>\n",
       "    <tr>\n",
       "      <th>25%</th>\n",
       "      <td>4.624138e+18</td>\n",
       "      <td>0.000000e+00</td>\n",
       "      <td>1.410211e+07</td>\n",
       "      <td>1.005000e+03</td>\n",
       "      <td>0.000000e+00</td>\n",
       "      <td>1.000000e+00</td>\n",
       "      <td>0.000000e+00</td>\n",
       "      <td>1.726400e+04</td>\n",
       "      <td>3.200000e+02</td>\n",
       "      <td>5.000000e+01</td>\n",
       "      <td>1.899000e+03</td>\n",
       "      <td>0.000000e+00</td>\n",
       "      <td>3.500000e+01</td>\n",
       "      <td>-1.000000e+00</td>\n",
       "      <td>4.200000e+01</td>\n",
       "    </tr>\n",
       "    <tr>\n",
       "      <th>50%</th>\n",
       "      <td>9.256815e+18</td>\n",
       "      <td>0.000000e+00</td>\n",
       "      <td>1.410212e+07</td>\n",
       "      <td>1.005000e+03</td>\n",
       "      <td>0.000000e+00</td>\n",
       "      <td>1.000000e+00</td>\n",
       "      <td>0.000000e+00</td>\n",
       "      <td>2.038700e+04</td>\n",
       "      <td>3.200000e+02</td>\n",
       "      <td>5.000000e+01</td>\n",
       "      <td>2.333000e+03</td>\n",
       "      <td>0.000000e+00</td>\n",
       "      <td>3.500000e+01</td>\n",
       "      <td>-1.000000e+00</td>\n",
       "      <td>7.900000e+01</td>\n",
       "    </tr>\n",
       "    <tr>\n",
       "      <th>75%</th>\n",
       "      <td>1.381045e+19</td>\n",
       "      <td>0.000000e+00</td>\n",
       "      <td>1.410221e+07</td>\n",
       "      <td>1.005000e+03</td>\n",
       "      <td>0.000000e+00</td>\n",
       "      <td>1.000000e+00</td>\n",
       "      <td>0.000000e+00</td>\n",
       "      <td>2.176100e+04</td>\n",
       "      <td>3.200000e+02</td>\n",
       "      <td>5.000000e+01</td>\n",
       "      <td>2.503000e+03</td>\n",
       "      <td>3.000000e+00</td>\n",
       "      <td>1.670000e+02</td>\n",
       "      <td>1.000840e+05</td>\n",
       "      <td>1.570000e+02</td>\n",
       "    </tr>\n",
       "    <tr>\n",
       "      <th>max</th>\n",
       "      <td>1.844674e+19</td>\n",
       "      <td>1.000000e+00</td>\n",
       "      <td>1.410222e+07</td>\n",
       "      <td>1.012000e+03</td>\n",
       "      <td>7.000000e+00</td>\n",
       "      <td>5.000000e+00</td>\n",
       "      <td>5.000000e+00</td>\n",
       "      <td>2.201600e+04</td>\n",
       "      <td>1.024000e+03</td>\n",
       "      <td>1.024000e+03</td>\n",
       "      <td>2.536000e+03</td>\n",
       "      <td>3.000000e+00</td>\n",
       "      <td>1.835000e+03</td>\n",
       "      <td>1.002480e+05</td>\n",
       "      <td>2.210000e+02</td>\n",
       "    </tr>\n",
       "  </tbody>\n",
       "</table>\n",
       "</div>"
      ],
      "text/plain": [
       "                 id         click          hour            C1    banner_pos  \\\n",
       "count  8.085792e+06  8.085792e+06  8.085792e+06  8.085792e+06  8.085792e+06   \n",
       "mean   9.229435e+18  1.636567e-01  1.410216e+07  1.004987e+03  2.412788e-01   \n",
       "std    5.318544e+18  3.699638e-01  4.943827e+01  1.003526e+00  4.546148e-01   \n",
       "min    2.052565e+12  0.000000e+00  1.410210e+07  1.001000e+03  0.000000e+00   \n",
       "25%    4.624138e+18  0.000000e+00  1.410211e+07  1.005000e+03  0.000000e+00   \n",
       "50%    9.256815e+18  0.000000e+00  1.410212e+07  1.005000e+03  0.000000e+00   \n",
       "75%    1.381045e+19  0.000000e+00  1.410221e+07  1.005000e+03  0.000000e+00   \n",
       "max    1.844674e+19  1.000000e+00  1.410222e+07  1.012000e+03  7.000000e+00   \n",
       "\n",
       "        device_type  device_conn_type           C14           C15  \\\n",
       "count  8.085792e+06      8.085792e+06  8.085792e+06  8.085792e+06   \n",
       "mean   1.019059e+00      2.545521e-01  1.879599e+04  3.182887e+02   \n",
       "std    4.908343e-01      7.207736e-01  4.667996e+03  2.657754e+01   \n",
       "min    0.000000e+00      0.000000e+00  3.750000e+02  1.200000e+02   \n",
       "25%    1.000000e+00      0.000000e+00  1.726400e+04  3.200000e+02   \n",
       "50%    1.000000e+00      0.000000e+00  2.038700e+04  3.200000e+02   \n",
       "75%    1.000000e+00      0.000000e+00  2.176100e+04  3.200000e+02   \n",
       "max    5.000000e+00      5.000000e+00  2.201600e+04  1.024000e+03   \n",
       "\n",
       "                C16           C17           C18           C19           C20  \\\n",
       "count  8.085792e+06  8.085792e+06  8.085792e+06  8.085792e+06  8.085792e+06   \n",
       "mean   5.862288e+01  2.120326e+03  1.318755e+00  1.714950e+02  4.880600e+04   \n",
       "std    4.538597e+01  5.708768e+02  1.381888e+00  3.097622e+02  5.004011e+04   \n",
       "min    2.000000e+01  1.120000e+02  0.000000e+00  3.300000e+01 -1.000000e+00   \n",
       "25%    5.000000e+01  1.899000e+03  0.000000e+00  3.500000e+01 -1.000000e+00   \n",
       "50%    5.000000e+01  2.333000e+03  0.000000e+00  3.500000e+01 -1.000000e+00   \n",
       "75%    5.000000e+01  2.503000e+03  3.000000e+00  1.670000e+02  1.000840e+05   \n",
       "max    1.024000e+03  2.536000e+03  3.000000e+00  1.835000e+03  1.002480e+05   \n",
       "\n",
       "                C21  \n",
       "count  8.085792e+06  \n",
       "mean   9.424142e+01  \n",
       "std    6.623489e+01  \n",
       "min    1.300000e+01  \n",
       "25%    4.200000e+01  \n",
       "50%    7.900000e+01  \n",
       "75%    1.570000e+02  \n",
       "max    2.210000e+02  "
      ]
     },
     "execution_count": 6,
     "metadata": {},
     "output_type": "execute_result"
    }
   ],
   "source": [
    "df.describe()"
   ]
  },
  {
   "cell_type": "markdown",
   "metadata": {},
   "source": [
    "### Get small amount of the device ids"
   ]
  },
  {
   "cell_type": "code",
   "execution_count": 7,
   "metadata": {},
   "outputs": [
    {
     "name": "stdout",
     "output_type": "stream",
     "text": [
      "We have 624692 unique device_id values\n",
      "We are taking 124938 of the devices\n",
      "After filter, we are left with 285171 rows\n"
     ]
    }
   ],
   "source": [
    "print('We have {} unique device_id values'.format(len(df['device_id'].unique())))\n",
    "\n",
    "# let sample 20% from it:\n",
    "unique_device_ids = df['device_id'].unique()\n",
    "\n",
    "unique_device_ids_to_take = random.sample(unique_device_ids, int(len(unique_device_ids) * 0.2))\n",
    "\n",
    "print 'We are taking {} of the devices'.format(len(unique_device_ids_to_take))\n",
    "\n",
    "filtered = df[df.device_id.isin(unique_device_ids_to_take)]\n",
    "print 'After filter, we are left with {} rows'.format(len(filtered))\n"
   ]
  },
  {
   "cell_type": "markdown",
   "metadata": {},
   "source": [
    "## Check if the data is imbalanced:"
   ]
  },
  {
   "cell_type": "code",
   "execution_count": 24,
   "metadata": {},
   "outputs": [
    {
     "data": {
      "image/png": "[encoded data removed]",
      "text/plain": [
       "<matplotlib.figure.Figure at 0x7fe91c325d10>"
      ]
     },
     "metadata": {},
     "output_type": "display_data"
    },
    {
     "data": {
      "image/png": "[encoded data removed]",
      "text/plain": [
       "<matplotlib.figure.Figure at 0x7fe91c3257d0>"
      ]
     },
     "metadata": {},
     "output_type": "display_data"
    },
    {
     "data": {
      "image/png": "[encoded data removed]",
      "text/plain": [
       "<matplotlib.figure.Figure at 0x7fe91a431250>"
      ]
     },
     "metadata": {},
     "output_type": "display_data"
    },
    {
     "data": {
      "image/png": "[encoded data removed]",
      "text/plain": [
       "<matplotlib.figure.Figure at 0x7fe91c2a0d50>"
      ]
     },
     "metadata": {},
     "output_type": "display_data"
    },
    {
     "data": {
      "image/png": "[encoded data removed]",
      "text/plain": [
       "<matplotlib.figure.Figure at 0x7fe91c2a0d90>"
      ]
     },
     "metadata": {},
     "output_type": "display_data"
    },
    {
     "data": {
      "image/png": "[encoded data removed]",
      "text/plain": [
       "<matplotlib.figure.Figure at 0x7fe91c3afb10>"
      ]
     },
     "metadata": {},
     "output_type": "display_data"
    },
    {
     "data": {
      "image/png": "[encoded data removed]",
      "text/plain": [
       "<matplotlib.figure.Figure at 0x7fe91c3af9d0>"
      ]
     },
     "metadata": {},
     "output_type": "display_data"
    },
    {
     "data": {
      "image/png": "[encoded data removed]",
      "text/plain": [
       "<matplotlib.figure.Figure at 0x7fe91c1b9f50>"
      ]
     },
     "metadata": {},
     "output_type": "display_data"
    }
   ],
   "source": [
    "# the data is unbalanced: we have much more devices of type '1' than '0', '4' and '5'\n",
    "# print filtered['device_type'].value_counts()\n",
    "# print filtered['C1'].value_counts()\n",
    "import pylab as P\n",
    "\n",
    "def create_histogram(data_frame, column_name):\n",
    "    data_frame[column_name].hist()\n",
    "    P.title(column_name)\n",
    "    P.show()\n",
    "    \n",
    "create_histogram(data_frame=filtered, column_name='device_type')\n",
    "create_histogram(data_frame=filtered, column_name='C1')\n",
    "create_histogram(data_frame=filtered, column_name='C14')\n",
    "create_histogram(data_frame=filtered, column_name='C15')\n",
    "create_histogram(data_frame=filtered, column_name='C16')\n",
    "create_histogram(data_frame=filtered, column_name='C17')\n",
    "create_histogram(data_frame=filtered, column_name='C18')\n",
    "create_histogram(data_frame=filtered, column_name='C19')\n"
   ]
  },
  {
   "cell_type": "markdown",
   "metadata": {},
   "source": [
    "### 2.a. How balanced is the dataset with respect to the labels?\n",
    "After checked the several columns, the data seems to be very unbalanced "
   ]
  },
  {
   "cell_type": "markdown",
   "metadata": {},
   "source": [
    "## Checking user activity:"
   ]
  },
  {
   "cell_type": "code",
   "execution_count": 9,
   "metadata": {},
   "outputs": [
    {
     "name": "stdout",
     "output_type": "stream",
     "text": [
      "0.215981603034\n",
      "0.144481101053\n",
      "0.103777911037\n",
      "0.0843402609957\n"
     ]
    }
   ],
   "source": [
    "filtered['click'].mean()\n",
    "\n",
    "def count_clicks_mean_by_device(device_type):\n",
    "    return filtered.loc[filtered['device_type'] == device_type]['click'].mean()\n",
    "    \n",
    "print count_clicks_mean_by_device(device_type=0)\n",
    "print count_clicks_mean_by_device(device_type=1)\n",
    "print count_clicks_mean_by_device(device_type=4)\n",
    "print count_clicks_mean_by_device(device_type=5)\n"
   ]
  },
  {
   "cell_type": "markdown",
   "metadata": {},
   "source": [
    "### 2.b. How active are users? Is this behavior expected?\n",
    "Seems like ~15.5% of the addes were clicked. This is extremly high number (according to different sources, 3% is already consited extremly high)\n",
    "We can also see that the the highest click rate have device_type = 0"
   ]
  },
  {
   "cell_type": "markdown",
   "metadata": {},
   "source": [
    "### Most popular apps:"
   ]
  },
  {
   "cell_type": "code",
   "execution_count": 10,
   "metadata": {},
   "outputs": [
    {
     "name": "stdout",
     "output_type": "stream",
     "text": [
      "The 5 most poplutar app domains\n",
      "7801e8d9    107793\n",
      "2347f47a     81551\n",
      "b9528b13     34385\n",
      "5c5a694b     22711\n",
      "6f7ca2ba     13867\n",
      "Name: app_domain, dtype: int64\n",
      "The 5 most popular app categories:\n",
      "0f2161f8    121827\n",
      "07d7df22     67770\n",
      "cef3e649     51989\n",
      "8ded1f7a     25486\n",
      "d1327cf5      4984\n",
      "Name: app_category, dtype: int64\n",
      "The 5 most poplutar apps\n",
      "ecad2386    51430\n",
      "7358e05e    33462\n",
      "e2fcccd2    22711\n",
      "66f5e02e    13867\n",
      "54c5d545     8587\n",
      "Name: app_id, dtype: int64\n"
     ]
    }
   ],
   "source": [
    "print 'The 5 most poplutar app domains'\n",
    "print filtered['app_domain'].value_counts().head(5)\n",
    "\n",
    "print 'The 5 most popular app categories:'\n",
    "print filtered['app_category'].value_counts().head(5)\n",
    "\n",
    "print 'The 5 most poplutar apps'\n",
    "print filtered['app_id'].value_counts().head(5)"
   ]
  },
  {
   "cell_type": "markdown",
   "metadata": {},
   "source": [
    "## Is there any connection between apps or specific device types to clicks?"
   ]
  },
  {
   "cell_type": "code",
   "execution_count": 11,
   "metadata": {},
   "outputs": [
    {
     "name": "stdout",
     "output_type": "stream",
     "text": [
      "Most popular devices\n",
      "1    187021\n",
      "0     65663\n",
      "4     28349\n",
      "5      4138\n",
      "Name: device_type, dtype: int64\n",
      "Most popular devices that the clicks came from\n",
      "1    27021\n",
      "0    14182\n",
      "4     2942\n",
      "5      349\n",
      "Name: device_type, dtype: int64\n"
     ]
    }
   ],
   "source": [
    "# lets's find the devices that most of the click came from:\n",
    "only_clicked = filtered.loc[filtered['click'] == 1]\n",
    "print 'Most popular devices'\n",
    "print filtered['device_type'].value_counts()\n",
    "\n",
    "print 'Most popular devices that the clicks came from'\n",
    "print only_clicked['device_type'].value_counts()\n",
    "\n",
    "# We can see that the ratio similarity between the two most popular devices (1 & 0) and devices with the \n",
    "# clicks is more or less the same.\n",
    "# For places 3 &4 (devices 4 & 5), we can see that there is less chance to get a click if you are using \n",
    "# these device"
   ]
  },
  {
   "cell_type": "code",
   "execution_count": 12,
   "metadata": {},
   "outputs": [
    {
     "name": "stdout",
     "output_type": "stream",
     "text": [
      "Most popular app domain\n",
      "7801e8d9    107793\n",
      "2347f47a     81551\n",
      "b9528b13     34385\n",
      "5c5a694b     22711\n",
      "6f7ca2ba     13867\n",
      "Name: app_domain, dtype: int64\n",
      "Most popular app domain with click\n",
      "7801e8d9    18157\n",
      "b9528b13     9039\n",
      "2347f47a     8895\n",
      "5c5a694b     3107\n",
      "6f7ca2ba     2853\n",
      "Name: app_domain, dtype: int64\n",
      "We see that 2347f47a domain to more unlickly to get clicked on (out of top 5)\n",
      "Most popular app category\n",
      "0f2161f8    121827\n",
      "07d7df22     67770\n",
      "cef3e649     51989\n",
      "8ded1f7a     25486\n",
      "d1327cf5      4984\n",
      "Name: app_category, dtype: int64\n",
      "Most popular app category with click\n",
      "0f2161f8    16193\n",
      "07d7df22    14328\n",
      "cef3e649    10075\n",
      "8ded1f7a     1748\n",
      "f95efa07      869\n",
      "Name: app_category, dtype: int64\n",
      "We see that there is high chance to get click with 07d7df22, and low with 09481d60 (out of top 5) \n",
      "Most popular app id\n",
      "ecad2386    51430\n",
      "7358e05e    33462\n",
      "e2fcccd2    22711\n",
      "66f5e02e    13867\n",
      "54c5d545     8587\n",
      "Name: app_id, dtype: int64\n",
      "Most popular app id with click\n",
      "ecad2386    10324\n",
      "7358e05e     8992\n",
      "e2fcccd2     3107\n",
      "66f5e02e     2853\n",
      "fb7c70a3     1484\n",
      "Name: app_id, dtype: int64\n",
      "We see that 54c5d545 app is to more unlickly to get clicked on (out of top 5)\n"
     ]
    }
   ],
   "source": [
    "# lets's find the apps that most of the click came from:\n",
    "print 'Most popular app domain'\n",
    "print filtered['app_domain'].value_counts().head(5)\n",
    "print 'Most popular app domain with click'\n",
    "print only_clicked['app_domain'].value_counts().head(5)\n",
    "\n",
    "print 'We see that 2347f47a domain to more unlickly to get clicked on (out of top 5)'\n",
    "\n",
    "print 'Most popular app category'\n",
    "print filtered['app_category'].value_counts().head(5)\n",
    "print 'Most popular app category with click'\n",
    "print only_clicked['app_category'].value_counts().head(5)\n",
    "print 'We see that there is high chance to get click with 07d7df22, and low with 09481d60 (out of top 5) '\n",
    "\n",
    "print 'Most popular app id'\n",
    "print filtered['app_id'].value_counts().head(5)\n",
    "print 'Most popular app id with click'\n",
    "print only_clicked['app_id'].value_counts().head(5)\n",
    "print 'We see that 54c5d545 app is to more unlickly to get clicked on (out of top 5)'\n"
   ]
  },
  {
   "cell_type": "markdown",
   "metadata": {},
   "source": [
    "## Predictive model to predict clicks:"
   ]
  },
  {
   "cell_type": "code",
   "execution_count": 13,
   "metadata": {},
   "outputs": [
    {
     "name": "stdout",
     "output_type": "stream",
     "text": [
      "213878 213878\n",
      "71293 71293\n"
     ]
    }
   ],
   "source": [
    "from sklearn.model_selection import train_test_split\n",
    "\n",
    "# filtered['app_id'].astype(int)\n",
    "\n",
    "def data_train_test_split(columns, target_column):\n",
    "    X = filtered[columns]\n",
    "    y = filtered[target_column]\n",
    "    \n",
    "    X_train, X_test, y_train, y_test = train_test_split(X, y, random_state=0)\n",
    "    return X_train, X_test, y_train, y_test\n",
    "\n",
    "columns = ['device_type', 'C1', 'C14','C15', 'C16', 'C17', 'C18', 'C19', 'C20', 'C21']\n",
    "X_train, X_test, y_train, y_test = data_train_test_split(columns=columns, target_column='click')\n",
    "\n",
    "print len(X_train), len(y_train)\n",
    "print len(X_test), len(y_test)\n",
    "\n"
   ]
  },
  {
   "cell_type": "code",
   "execution_count": 25,
   "metadata": {},
   "outputs": [
    {
     "name": "stdout",
     "output_type": "stream",
     "text": [
      "Accuracy_score:  0.845889498268\n",
      "Log loss:  5.32291136337\n"
     ]
    }
   ],
   "source": [
    "from sklearn.linear_model import LogisticRegression\n",
    "from sklearn.metrics import accuracy_score\n",
    "from sklearn.metrics import log_loss\n",
    "from sklearn import neighbors\n",
    "from sklearn.ensemble import RandomForestClassifier\n",
    "\n",
    "logreg = LogisticRegression()\n",
    "knn = neighbors.KNeighborsClassifier()\n",
    "random_forest = RandomForestClassifier(n_jobs=2, random_state=0)\n",
    "\n",
    "\n",
    "def predict(X_train, X_test, y_train, y_test, algo, metric):\n",
    "    algo.fit(X_train, y_train)\n",
    "    predictions = algo.predict(X_test)\n",
    "    return metric(predictions, y_test)\n",
    "    \n",
    "\n",
    "print 'Accuracy_score: ',predict(X_train, X_test, y_train, y_test, algo=logreg, metric=accuracy_score)\n",
    "print 'Log loss: ', predict(X_train, X_test, y_train, y_test, algo=logreg, metric=log_loss)\n",
    "\n",
    "    "
   ]
  },
  {
   "cell_type": "markdown",
   "metadata": {},
   "source": [
    "### Clustering the device id:"
   ]
  },
  {
   "cell_type": "code",
   "execution_count": 35,
   "metadata": {},
   "outputs": [
    {
     "ename": "ValueError",
     "evalue": "could not convert string to float: e8c7729d",
     "output_type": "error",
     "traceback": [
      "\u001b[0;31m---------------------------------------------------------------------------\u001b[0m",
      "\u001b[0;31mValueError\u001b[0m                                Traceback (most recent call last)",
      "\u001b[0;32m<ipython-input-35-0c575c1a5321>\u001b[0m in \u001b[0;36m<module>\u001b[0;34m()\u001b[0m\n\u001b[1;32m      4\u001b[0m \u001b[0;34m\u001b[0m\u001b[0m\n\u001b[1;32m      5\u001b[0m \u001b[0mX\u001b[0m\u001b[0;34m=\u001b[0m\u001b[0mnp\u001b[0m\u001b[0;34m.\u001b[0m\u001b[0mmatrix\u001b[0m\u001b[0;34m(\u001b[0m\u001b[0mzip\u001b[0m\u001b[0;34m(\u001b[0m\u001b[0mf1\u001b[0m\u001b[0;34m,\u001b[0m\u001b[0mf2\u001b[0m\u001b[0;34m)\u001b[0m\u001b[0;34m)\u001b[0m\u001b[0;34m\u001b[0m\u001b[0m\n\u001b[0;32m----> 6\u001b[0;31m \u001b[0mkmeans\u001b[0m \u001b[0;34m=\u001b[0m \u001b[0mKMeans\u001b[0m\u001b[0;34m(\u001b[0m\u001b[0mn_clusters\u001b[0m\u001b[0;34m=\u001b[0m\u001b[0;36m2\u001b[0m\u001b[0;34m)\u001b[0m\u001b[0;34m.\u001b[0m\u001b[0mfit\u001b[0m\u001b[0;34m(\u001b[0m\u001b[0mX\u001b[0m\u001b[0;34m)\u001b[0m\u001b[0;34m\u001b[0m\u001b[0m\n\u001b[0m\u001b[1;32m      7\u001b[0m \u001b[0my_kmeans\u001b[0m \u001b[0;34m=\u001b[0m \u001b[0mkmeans\u001b[0m\u001b[0;34m.\u001b[0m\u001b[0mpredict\u001b[0m\u001b[0;34m(\u001b[0m\u001b[0mX\u001b[0m\u001b[0;34m)\u001b[0m\u001b[0;34m\u001b[0m\u001b[0m\n",
      "\u001b[0;32m/usr/local/lib/python2.7/dist-packages/sklearn/cluster/k_means_.pyc\u001b[0m in \u001b[0;36mfit\u001b[0;34m(self, X, y)\u001b[0m\n\u001b[1;32m    885\u001b[0m         \"\"\"\n\u001b[1;32m    886\u001b[0m         \u001b[0mrandom_state\u001b[0m \u001b[0;34m=\u001b[0m \u001b[0mcheck_random_state\u001b[0m\u001b[0;34m(\u001b[0m\u001b[0mself\u001b[0m\u001b[0;34m.\u001b[0m\u001b[0mrandom_state\u001b[0m\u001b[0;34m)\u001b[0m\u001b[0;34m\u001b[0m\u001b[0m\n\u001b[0;32m--> 887\u001b[0;31m         \u001b[0mX\u001b[0m \u001b[0;34m=\u001b[0m \u001b[0mself\u001b[0m\u001b[0;34m.\u001b[0m\u001b[0m_check_fit_data\u001b[0m\u001b[0;34m(\u001b[0m\u001b[0mX\u001b[0m\u001b[0;34m)\u001b[0m\u001b[0;34m\u001b[0m\u001b[0m\n\u001b[0m\u001b[1;32m    888\u001b[0m \u001b[0;34m\u001b[0m\u001b[0m\n\u001b[1;32m    889\u001b[0m         \u001b[0mself\u001b[0m\u001b[0;34m.\u001b[0m\u001b[0mcluster_centers_\u001b[0m\u001b[0;34m,\u001b[0m \u001b[0mself\u001b[0m\u001b[0;34m.\u001b[0m\u001b[0mlabels_\u001b[0m\u001b[0;34m,\u001b[0m \u001b[0mself\u001b[0m\u001b[0;34m.\u001b[0m\u001b[0minertia_\u001b[0m\u001b[0;34m,\u001b[0m \u001b[0mself\u001b[0m\u001b[0;34m.\u001b[0m\u001b[0mn_iter_\u001b[0m \u001b[0;34m=\u001b[0m\u001b[0;31m \u001b[0m\u001b[0;31m\\\u001b[0m\u001b[0;34m\u001b[0m\u001b[0m\n",
      "\u001b[0;32m/usr/local/lib/python2.7/dist-packages/sklearn/cluster/k_means_.pyc\u001b[0m in \u001b[0;36m_check_fit_data\u001b[0;34m(self, X)\u001b[0m\n\u001b[1;32m    856\u001b[0m     \u001b[0;32mdef\u001b[0m \u001b[0m_check_fit_data\u001b[0m\u001b[0;34m(\u001b[0m\u001b[0mself\u001b[0m\u001b[0;34m,\u001b[0m \u001b[0mX\u001b[0m\u001b[0;34m)\u001b[0m\u001b[0;34m:\u001b[0m\u001b[0;34m\u001b[0m\u001b[0m\n\u001b[1;32m    857\u001b[0m         \u001b[0;34m\"\"\"Verify that the number of samples given is larger than k\"\"\"\u001b[0m\u001b[0;34m\u001b[0m\u001b[0m\n\u001b[0;32m--> 858\u001b[0;31m         \u001b[0mX\u001b[0m \u001b[0;34m=\u001b[0m \u001b[0mcheck_array\u001b[0m\u001b[0;34m(\u001b[0m\u001b[0mX\u001b[0m\u001b[0;34m,\u001b[0m \u001b[0maccept_sparse\u001b[0m\u001b[0;34m=\u001b[0m\u001b[0;34m'csr'\u001b[0m\u001b[0;34m,\u001b[0m \u001b[0mdtype\u001b[0m\u001b[0;34m=\u001b[0m\u001b[0;34m[\u001b[0m\u001b[0mnp\u001b[0m\u001b[0;34m.\u001b[0m\u001b[0mfloat64\u001b[0m\u001b[0;34m,\u001b[0m \u001b[0mnp\u001b[0m\u001b[0;34m.\u001b[0m\u001b[0mfloat32\u001b[0m\u001b[0;34m]\u001b[0m\u001b[0;34m)\u001b[0m\u001b[0;34m\u001b[0m\u001b[0m\n\u001b[0m\u001b[1;32m    859\u001b[0m         \u001b[0;32mif\u001b[0m \u001b[0mX\u001b[0m\u001b[0;34m.\u001b[0m\u001b[0mshape\u001b[0m\u001b[0;34m[\u001b[0m\u001b[0;36m0\u001b[0m\u001b[0;34m]\u001b[0m \u001b[0;34m<\u001b[0m \u001b[0mself\u001b[0m\u001b[0;34m.\u001b[0m\u001b[0mn_clusters\u001b[0m\u001b[0;34m:\u001b[0m\u001b[0;34m\u001b[0m\u001b[0m\n\u001b[1;32m    860\u001b[0m             raise ValueError(\"n_samples=%d should be >= n_clusters=%d\" % (\n",
      "\u001b[0;32m/usr/local/lib/python2.7/dist-packages/sklearn/utils/validation.pyc\u001b[0m in \u001b[0;36mcheck_array\u001b[0;34m(array, accept_sparse, dtype, order, copy, force_all_finite, ensure_2d, allow_nd, ensure_min_samples, ensure_min_features, warn_on_dtype, estimator)\u001b[0m\n\u001b[1;32m    431\u001b[0m                                       force_all_finite)\n\u001b[1;32m    432\u001b[0m     \u001b[0;32melse\u001b[0m\u001b[0;34m:\u001b[0m\u001b[0;34m\u001b[0m\u001b[0m\n\u001b[0;32m--> 433\u001b[0;31m         \u001b[0marray\u001b[0m \u001b[0;34m=\u001b[0m \u001b[0mnp\u001b[0m\u001b[0;34m.\u001b[0m\u001b[0marray\u001b[0m\u001b[0;34m(\u001b[0m\u001b[0marray\u001b[0m\u001b[0;34m,\u001b[0m \u001b[0mdtype\u001b[0m\u001b[0;34m=\u001b[0m\u001b[0mdtype\u001b[0m\u001b[0;34m,\u001b[0m \u001b[0morder\u001b[0m\u001b[0;34m=\u001b[0m\u001b[0morder\u001b[0m\u001b[0;34m,\u001b[0m \u001b[0mcopy\u001b[0m\u001b[0;34m=\u001b[0m\u001b[0mcopy\u001b[0m\u001b[0;34m)\u001b[0m\u001b[0;34m\u001b[0m\u001b[0m\n\u001b[0m\u001b[1;32m    434\u001b[0m \u001b[0;34m\u001b[0m\u001b[0m\n\u001b[1;32m    435\u001b[0m         \u001b[0;32mif\u001b[0m \u001b[0mensure_2d\u001b[0m\u001b[0;34m:\u001b[0m\u001b[0;34m\u001b[0m\u001b[0m\n",
      "\u001b[0;31mValueError\u001b[0m: could not convert string to float: e8c7729d"
     ]
    }
   ],
   "source": [
    "from sklearn.cluster import KMeans\n",
    "f1 = filtered['device_model'].values\n",
    "f2 = filtered['device_type'].values\n",
    "\n",
    "X=np.matrix(zip(f1,f2))\n",
    "kmeans = KMeans(n_clusters=2).fit(X)\n",
    "y_kmeans = kmeans.predict(X)\n"
   ]
  },
  {
   "cell_type": "code",
   "execution_count": 23,
   "metadata": {},
   "outputs": [
    {
     "data": {
      "image/png": "[encoded data removed]",
      "text/plain": [
       "<matplotlib.figure.Figure at 0x7fe91c347ad0>"
      ]
     },
     "metadata": {},
     "output_type": "display_data"
    }
   ],
   "source": [
    "import matplotlib.pyplot as plt\n",
    "plt.scatter(X[:, 0], X[:, 1], c=y_kmeans, s=50, cmap='viridis')\n",
    "\n",
    "centers = kmeans.cluster_centers_\n",
    "plt.scatter(centers[:, 0], centers[:, 1], c='black', s=200, alpha=0.5);\n"
   ]
  },
  {
   "cell_type": "code",
   "execution_count": 30,
   "metadata": {},
   "outputs": [
    {
     "data": {
      "text/plain": [
       "f07e20f8    11641\n",
       "7abbbd5c     9434\n",
       "1f0bc64f     8142\n",
       "43e7b962     6116\n",
       "ecb851b2     5311\n",
       "d787e91b     5264\n",
       "be74e6fe     4723\n",
       "be6db1d7     4189\n",
       "a0f5f879     3730\n",
       "ef726eae     3683\n",
       "Name: device_model, dtype: int64"
      ]
     },
     "execution_count": 30,
     "metadata": {},
     "output_type": "execute_result"
    }
   ],
   "source": [
    "filtered['device_model'].value_counts().head(10)"
   ]
  },
  {
   "cell_type": "code",
   "execution_count": 34,
   "metadata": {},
   "outputs": [
    {
     "data": {
      "text/plain": [
       "3943"
      ]
     },
     "execution_count": 34,
     "metadata": {},
     "output_type": "execute_result"
    }
   ],
   "source": [
    "len(filtered['device_model'].unique())"
   ]
  },
  {
   "cell_type": "code",
   "execution_count": null,
   "metadata": {},
   "outputs": [],
   "source": []
  }
 ],
 "metadata": {
  "kernelspec": {
   "display_name": "Python 2",
   "language": "python",
   "name": "python2"
  },
  "language_info": {
   "codemirror_mode": {
    "name": "ipython",
    "version": 2
   },
   "file_extension": ".py",
   "mimetype": "text/x-python",
   "name": "python",
   "nbconvert_exporter": "python",
   "pygments_lexer": "ipython2",
   "version": "2.7.12"
  }
 },
 "nbformat": 4,
 "nbformat_minor": 2
}
